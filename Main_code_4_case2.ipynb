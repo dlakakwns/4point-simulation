{
 "cells": [
  {
   "cell_type": "code",
   "execution_count": 1,
   "id": "4f1ddc5c-a955-4a62-8e2e-6d4304b1b875",
   "metadata": {},
   "outputs": [],
   "source": [
    "import numpy as np\n",
    "import pandas as pd\n",
    "from tqdm.notebook import tqdm\n",
    "from sklearn.metrics import mean_absolute_error\n",
    "import optuna\n",
    "from concurrent.futures import ProcessPoolExecutor\n",
    "from joblib import Parallel, delayed\n",
    "from scipy.stats import t"
   ]
  },
  {
   "cell_type": "code",
   "execution_count": 2,
   "id": "6da3e2b5-1e40-4d04-abea-0d57d20edd8e",
   "metadata": {},
   "outputs": [
    {
     "data": {
      "text/plain": [
       "Index(['Team', 'Conference', '2PA', '3PA', 'TOV', 'FTD', 'RAA', 'PZA', 'MRA',\n",
       "       'COA', 'ABA', '2SFD', '3SFD', 'NSFD', 'RAP', 'PZP', 'MRP', 'COP', 'ABP',\n",
       "       'FTP', 'PACE', 'DEEPA', 'DEEPP', '2PAnd1', '3PAnd1', 'ORAP', 'OPZP',\n",
       "       'OMRP', 'OCOP', 'OABP', 'ORB', 'DRB'],\n",
       "      dtype='object')"
      ]
     },
     "execution_count": 2,
     "metadata": {},
     "output_type": "execute_result"
    }
   ],
   "source": [
    "Main_data=pd.read_csv('Main_data_case2.csv')\n",
    "Schedule=pd.read_csv('Schedule.csv')\n",
    "Origin_result = pd.read_csv('Origin_result.csv')\n",
    "Main_data.columns"
   ]
  },
  {
   "cell_type": "code",
   "execution_count": 3,
   "id": "8045a1cb-42f6-450d-874e-4860e14037a7",
   "metadata": {},
   "outputs": [
    {
     "data": {
      "text/html": [
       "<div>\n",
       "<style scoped>\n",
       "    .dataframe tbody tr th:only-of-type {\n",
       "        vertical-align: middle;\n",
       "    }\n",
       "\n",
       "    .dataframe tbody tr th {\n",
       "        vertical-align: top;\n",
       "    }\n",
       "\n",
       "    .dataframe thead th {\n",
       "        text-align: right;\n",
       "    }\n",
       "</style>\n",
       "<table border=\"1\" class=\"dataframe\">\n",
       "  <thead>\n",
       "    <tr style=\"text-align: right;\">\n",
       "      <th></th>\n",
       "      <th>Team</th>\n",
       "      <th>Conference</th>\n",
       "      <th>Win_Percentage</th>\n",
       "      <th>Play_off</th>\n",
       "    </tr>\n",
       "  </thead>\n",
       "  <tbody>\n",
       "    <tr>\n",
       "      <th>0</th>\n",
       "      <td>ATL</td>\n",
       "      <td>East</td>\n",
       "      <td>0.439</td>\n",
       "      <td>1</td>\n",
       "    </tr>\n",
       "    <tr>\n",
       "      <th>1</th>\n",
       "      <td>BKN</td>\n",
       "      <td>East</td>\n",
       "      <td>0.390</td>\n",
       "      <td>0</td>\n",
       "    </tr>\n",
       "    <tr>\n",
       "      <th>2</th>\n",
       "      <td>BOS</td>\n",
       "      <td>East</td>\n",
       "      <td>0.790</td>\n",
       "      <td>1</td>\n",
       "    </tr>\n",
       "    <tr>\n",
       "      <th>3</th>\n",
       "      <td>CHA</td>\n",
       "      <td>East</td>\n",
       "      <td>0.256</td>\n",
       "      <td>0</td>\n",
       "    </tr>\n",
       "    <tr>\n",
       "      <th>4</th>\n",
       "      <td>CHI</td>\n",
       "      <td>East</td>\n",
       "      <td>0.476</td>\n",
       "      <td>1</td>\n",
       "    </tr>\n",
       "    <tr>\n",
       "      <th>5</th>\n",
       "      <td>CLE</td>\n",
       "      <td>East</td>\n",
       "      <td>0.585</td>\n",
       "      <td>1</td>\n",
       "    </tr>\n",
       "    <tr>\n",
       "      <th>6</th>\n",
       "      <td>DAL</td>\n",
       "      <td>West</td>\n",
       "      <td>0.610</td>\n",
       "      <td>1</td>\n",
       "    </tr>\n",
       "    <tr>\n",
       "      <th>7</th>\n",
       "      <td>DEN</td>\n",
       "      <td>West</td>\n",
       "      <td>0.695</td>\n",
       "      <td>1</td>\n",
       "    </tr>\n",
       "    <tr>\n",
       "      <th>8</th>\n",
       "      <td>DET</td>\n",
       "      <td>East</td>\n",
       "      <td>0.171</td>\n",
       "      <td>0</td>\n",
       "    </tr>\n",
       "    <tr>\n",
       "      <th>9</th>\n",
       "      <td>GSW</td>\n",
       "      <td>West</td>\n",
       "      <td>0.561</td>\n",
       "      <td>1</td>\n",
       "    </tr>\n",
       "    <tr>\n",
       "      <th>10</th>\n",
       "      <td>HOU</td>\n",
       "      <td>West</td>\n",
       "      <td>0.500</td>\n",
       "      <td>0</td>\n",
       "    </tr>\n",
       "    <tr>\n",
       "      <th>11</th>\n",
       "      <td>IND</td>\n",
       "      <td>East</td>\n",
       "      <td>0.573</td>\n",
       "      <td>1</td>\n",
       "    </tr>\n",
       "    <tr>\n",
       "      <th>12</th>\n",
       "      <td>LAC</td>\n",
       "      <td>West</td>\n",
       "      <td>0.622</td>\n",
       "      <td>1</td>\n",
       "    </tr>\n",
       "    <tr>\n",
       "      <th>13</th>\n",
       "      <td>LAL</td>\n",
       "      <td>West</td>\n",
       "      <td>0.573</td>\n",
       "      <td>1</td>\n",
       "    </tr>\n",
       "    <tr>\n",
       "      <th>14</th>\n",
       "      <td>MEM</td>\n",
       "      <td>West</td>\n",
       "      <td>0.329</td>\n",
       "      <td>0</td>\n",
       "    </tr>\n",
       "    <tr>\n",
       "      <th>15</th>\n",
       "      <td>MIA</td>\n",
       "      <td>East</td>\n",
       "      <td>0.561</td>\n",
       "      <td>1</td>\n",
       "    </tr>\n",
       "    <tr>\n",
       "      <th>16</th>\n",
       "      <td>MIL</td>\n",
       "      <td>East</td>\n",
       "      <td>0.598</td>\n",
       "      <td>1</td>\n",
       "    </tr>\n",
       "    <tr>\n",
       "      <th>17</th>\n",
       "      <td>MIN</td>\n",
       "      <td>West</td>\n",
       "      <td>0.683</td>\n",
       "      <td>1</td>\n",
       "    </tr>\n",
       "    <tr>\n",
       "      <th>18</th>\n",
       "      <td>NOP</td>\n",
       "      <td>West</td>\n",
       "      <td>0.598</td>\n",
       "      <td>1</td>\n",
       "    </tr>\n",
       "    <tr>\n",
       "      <th>19</th>\n",
       "      <td>NYK</td>\n",
       "      <td>East</td>\n",
       "      <td>0.610</td>\n",
       "      <td>1</td>\n",
       "    </tr>\n",
       "    <tr>\n",
       "      <th>20</th>\n",
       "      <td>OKC</td>\n",
       "      <td>West</td>\n",
       "      <td>0.695</td>\n",
       "      <td>1</td>\n",
       "    </tr>\n",
       "    <tr>\n",
       "      <th>21</th>\n",
       "      <td>ORL</td>\n",
       "      <td>East</td>\n",
       "      <td>0.573</td>\n",
       "      <td>1</td>\n",
       "    </tr>\n",
       "    <tr>\n",
       "      <th>22</th>\n",
       "      <td>PHI</td>\n",
       "      <td>East</td>\n",
       "      <td>0.573</td>\n",
       "      <td>1</td>\n",
       "    </tr>\n",
       "    <tr>\n",
       "      <th>23</th>\n",
       "      <td>PHX</td>\n",
       "      <td>West</td>\n",
       "      <td>0.598</td>\n",
       "      <td>1</td>\n",
       "    </tr>\n",
       "    <tr>\n",
       "      <th>24</th>\n",
       "      <td>POR</td>\n",
       "      <td>West</td>\n",
       "      <td>0.256</td>\n",
       "      <td>0</td>\n",
       "    </tr>\n",
       "    <tr>\n",
       "      <th>25</th>\n",
       "      <td>SAC</td>\n",
       "      <td>West</td>\n",
       "      <td>0.561</td>\n",
       "      <td>1</td>\n",
       "    </tr>\n",
       "    <tr>\n",
       "      <th>26</th>\n",
       "      <td>SAS</td>\n",
       "      <td>West</td>\n",
       "      <td>0.268</td>\n",
       "      <td>0</td>\n",
       "    </tr>\n",
       "    <tr>\n",
       "      <th>27</th>\n",
       "      <td>TOR</td>\n",
       "      <td>East</td>\n",
       "      <td>0.305</td>\n",
       "      <td>0</td>\n",
       "    </tr>\n",
       "    <tr>\n",
       "      <th>28</th>\n",
       "      <td>UTA</td>\n",
       "      <td>West</td>\n",
       "      <td>0.378</td>\n",
       "      <td>0</td>\n",
       "    </tr>\n",
       "    <tr>\n",
       "      <th>29</th>\n",
       "      <td>WAS</td>\n",
       "      <td>East</td>\n",
       "      <td>0.183</td>\n",
       "      <td>0</td>\n",
       "    </tr>\n",
       "  </tbody>\n",
       "</table>\n",
       "</div>"
      ],
      "text/plain": [
       "   Team Conference  Win_Percentage  Play_off\n",
       "0   ATL       East           0.439         1\n",
       "1   BKN       East           0.390         0\n",
       "2   BOS       East           0.790         1\n",
       "3   CHA       East           0.256         0\n",
       "4   CHI       East           0.476         1\n",
       "5   CLE       East           0.585         1\n",
       "6   DAL       West           0.610         1\n",
       "7   DEN       West           0.695         1\n",
       "8   DET       East           0.171         0\n",
       "9   GSW       West           0.561         1\n",
       "10  HOU       West           0.500         0\n",
       "11  IND       East           0.573         1\n",
       "12  LAC       West           0.622         1\n",
       "13  LAL       West           0.573         1\n",
       "14  MEM       West           0.329         0\n",
       "15  MIA       East           0.561         1\n",
       "16  MIL       East           0.598         1\n",
       "17  MIN       West           0.683         1\n",
       "18  NOP       West           0.598         1\n",
       "19  NYK       East           0.610         1\n",
       "20  OKC       West           0.695         1\n",
       "21  ORL       East           0.573         1\n",
       "22  PHI       East           0.573         1\n",
       "23  PHX       West           0.598         1\n",
       "24  POR       West           0.256         0\n",
       "25  SAC       West           0.561         1\n",
       "26  SAS       West           0.268         0\n",
       "27  TOR       East           0.305         0\n",
       "28  UTA       West           0.378         0\n",
       "29  WAS       East           0.183         0"
      ]
     },
     "execution_count": 3,
     "metadata": {},
     "output_type": "execute_result"
    }
   ],
   "source": [
    "Origin_result"
   ]
  },
  {
   "cell_type": "code",
   "execution_count": 7,
   "id": "e56cbb6b-17c5-49d7-afb8-aa19aa830d45",
   "metadata": {},
   "outputs": [],
   "source": [
    "def generate_dirichlet_sample(row,multiply):\n",
    "    ratios = row[['2PA', '3PA', 'DEEPA', 'FTD', 'TOV']].values\n",
    "    ratios = ratios.flatten()\n",
    "    \n",
    "    alpha_raw = ratios  \n",
    "    alpha = (alpha_raw / alpha_raw.sum()) * multiply  \n",
    "    \n",
    "    dirichlet_sample = np.random.dirichlet(alpha)\n",
    "\n",
    "    return dirichlet_sample\n",
    "\n",
    "def generate_dirichlet_sample_2pt(row,multiply):\n",
    "    ratios = row[['RAA', 'PZA', 'MRA', '2PAnd1']].values\n",
    "    ratios = ratios.flatten()\n",
    "    \n",
    "    alpha_raw = ratios \n",
    "    alpha = (alpha_raw / alpha_raw.sum()) * multiply  \n",
    "\n",
    "    dirichlet_sample_2pt = np.random.dirichlet(alpha)\n",
    "\n",
    "    return dirichlet_sample_2pt\n",
    "\n",
    "def generate_dirichlet_sample_3pt(row,multiply):\n",
    "    ratios = row[['COA', 'ABA', '3PAnd1']].values\n",
    "    ratios = ratios.flatten()\n",
    "    \n",
    "    alpha_raw = ratios  \n",
    "    alpha = (alpha_raw / alpha_raw.sum()) * multiply  \n",
    "\n",
    "    dirichlet_sample_3pt = np.random.dirichlet(alpha)\n",
    "\n",
    "    return dirichlet_sample_3pt\n",
    "\n",
    "def generate_dirichlet_sample_FT(row,multiply):\n",
    "    \n",
    "    ratios = row[['2SFD', '3SFD', 'NSFD']].values\n",
    "    ratios = ratios.flatten()\n",
    "    \n",
    "    alpha_raw = ratios \n",
    "    alpha = (alpha_raw / alpha_raw.sum()) * multiply  \n",
    "\n",
    "    dirichlet_sample_FT = np.random.dirichlet(alpha)\n",
    "\n",
    "    return dirichlet_sample_FT"
   ]
  },
  {
   "cell_type": "code",
   "execution_count": 9,
   "id": "67cc17f1-07c6-4c37-81ee-72f3f2fd683b",
   "metadata": {},
   "outputs": [],
   "source": [
    "def generate_indicator(sample_dist):\n",
    "        cumulative_probs = np.cumsum(sample_dist)\n",
    "\n",
    "        random_value = np.random.uniform(0, 1)\n",
    "\n",
    "        if random_value <= cumulative_probs[0]:\n",
    "            return '2pt'\n",
    "        elif random_value <= cumulative_probs[1]:\n",
    "            return '3pt'\n",
    "        elif random_value <= cumulative_probs[2]:\n",
    "            return '4pt'    \n",
    "        elif random_value <= cumulative_probs[3]:\n",
    "            return 'FT'\n",
    "        else:\n",
    "            return 'TOV'\n",
    "            \n",
    "def generate_indicator_2pt(sample_dist):\n",
    "        cumulative_probs = np.cumsum(sample_dist)\n",
    "\n",
    "        random_value = np.random.uniform(0, 1)\n",
    "\n",
    "        if random_value <= cumulative_probs[0]:\n",
    "            return 'RA'\n",
    "        elif random_value <= cumulative_probs[1]:\n",
    "            return 'PZ'\n",
    "        elif random_value <= cumulative_probs[2]:\n",
    "            return 'MR'\n",
    "        else:\n",
    "            return '2PAnd1'\n",
    "\n",
    "def generate_indicator_3pt(sample_dist):\n",
    "        cumulative_probs = np.cumsum(sample_dist)\n",
    "\n",
    "        random_value = np.random.uniform(0, 1)\n",
    "\n",
    "        if random_value <= cumulative_probs[0]:\n",
    "            return 'CO'\n",
    "        elif random_value <= cumulative_probs[1]:\n",
    "            return 'AB'\n",
    "        else:\n",
    "            return '3PAnd1'\n",
    "\n",
    "def generate_indicator_FT(sample_dist):\n",
    "        cumulative_probs = np.cumsum(sample_dist)\n",
    "\n",
    "        random_value = np.random.uniform(0, 1)\n",
    "\n",
    "        if random_value <= cumulative_probs[0]:\n",
    "            return '2SFD'\n",
    "        elif random_value <= cumulative_probs[1]:\n",
    "            return '3SFD'\n",
    "        else:\n",
    "            return 'NSFD'"
   ]
  },
  {
   "cell_type": "code",
   "execution_count": 11,
   "id": "aa25f5ad-7ecf-4fc0-866a-e211e57739f9",
   "metadata": {},
   "outputs": [],
   "source": [
    "def simulation_function(OFF, DEF, rate, multiply, maindata):\n",
    "    off_team_data = maindata[maindata['Team'] == OFF]\n",
    "    def_team_data = maindata[maindata['Team'] == DEF]\n",
    "\n",
    "    if off_team_data.empty or def_team_data.empty:\n",
    "        raise ValueError(\"Name_error\")\n",
    "\n",
    "    sample_dist = generate_dirichlet_sample(off_team_data, multiply)\n",
    "    \n",
    "    indicator = generate_indicator(sample_dist)\n",
    "\n",
    "    retry_occurred = False\n",
    "    nested_result = None  \n",
    "\n",
    "    if indicator == '2pt':\n",
    "        sample_dist_step2 = generate_dirichlet_sample_2pt(off_team_data, multiply)\n",
    "        indicator_step2 = generate_indicator_2pt(sample_dist_step2)\n",
    "        if indicator_step2 == 'RA':\n",
    "            success_prob = ((rate * off_team_data['RAP'].iloc[0]) + ((1-rate) * def_team_data['ORAP'].iloc[0])) / 100\n",
    "            random_value = np.random.uniform(0, 1)\n",
    "            if random_value <= success_prob:\n",
    "                point = 2\n",
    "            else:\n",
    "                point = 0\n",
    "            if point == 0:\n",
    "                off_orb = off_team_data['ORB'].iloc[0]\n",
    "                def_drb = def_team_data['DRB'].iloc[0]\n",
    "                total = off_orb + def_drb\n",
    "                prob_retry = off_orb / total if total > 0 else 0\n",
    "                prob_fail = def_drb / total if total > 0 else 1\n",
    "\n",
    "                retry_prob = np.random.uniform(0, 1)\n",
    "                if retry_prob <= prob_retry:\n",
    "                    retry_occurred = True\n",
    "                    nested_result = simulation_function(OFF, DEF, rate, multiply, maindata)\n",
    "                else:\n",
    "                    point = 0\n",
    "\n",
    "        elif indicator_step2 == 'PZ':\n",
    "            success_prob = ((rate * off_team_data['PZP'].iloc[0]) + ((1-rate) * def_team_data['OPZP'].iloc[0])) / 100\n",
    "            random_value = np.random.uniform(0, 1)\n",
    "            if random_value <= success_prob:\n",
    "                point = 2\n",
    "            else:\n",
    "                point = 0\n",
    "            if point == 0:\n",
    "                off_orb = off_team_data['ORB'].iloc[0]\n",
    "                def_drb = def_team_data['DRB'].iloc[0]\n",
    "                total = off_orb + def_drb\n",
    "                prob_retry = off_orb / total if total > 0 else 0\n",
    "                prob_fail = def_drb / total if total > 0 else 1\n",
    "\n",
    "                retry_prob = np.random.uniform(0, 1)\n",
    "                if retry_prob <= prob_retry:\n",
    "                    retry_occurred = True\n",
    "                    nested_result = simulation_function(OFF, DEF, rate, multiply, maindata)\n",
    "                else:\n",
    "                    point = 0\n",
    "\n",
    "        elif indicator_step2 == 'MR':\n",
    "            success_prob = ((rate * off_team_data['MRP'].iloc[0]) + ((1-rate) * def_team_data['OMRP'].iloc[0])) / 100\n",
    "            random_value = np.random.uniform(0, 1)\n",
    "            if random_value <= success_prob:\n",
    "                point = 2\n",
    "            else:\n",
    "                point = 0\n",
    "            if point == 0:\n",
    "                off_orb = off_team_data['ORB'].iloc[0]\n",
    "                def_drb = def_team_data['DRB'].iloc[0]\n",
    "                total = off_orb + def_drb\n",
    "                prob_retry = off_orb / total if total > 0 else 0\n",
    "                prob_fail = def_drb / total if total > 0 else 1\n",
    "\n",
    "                retry_prob = np.random.uniform(0, 1)\n",
    "                if retry_prob <= prob_retry:\n",
    "                    retry_occurred = True\n",
    "                    nested_result = simulation_function(OFF, DEF, rate, multiply, maindata)\n",
    "                else:\n",
    "                    point = 0\n",
    "\n",
    "        else:\n",
    "            success_prob = (off_team_data['FTP'].iloc[0] / 100)\n",
    "            random_value = np.random.uniform(0, 1)\n",
    "            if random_value <= success_prob:\n",
    "                point = 3\n",
    "            else:\n",
    "                point = 2\n",
    "                off_orb = off_team_data['ORB'].iloc[0]\n",
    "                def_drb = def_team_data['DRB'].iloc[0]\n",
    "                total = off_orb + def_drb\n",
    "                prob_retry = off_orb / total if total > 0 else 0\n",
    "                prob_fail = def_drb / total if total > 0 else 1\n",
    "\n",
    "                retry_prob = np.random.uniform(0, 1)\n",
    "                if retry_prob <= prob_retry:\n",
    "                    retry_occurred = True\n",
    "                    nested_result = simulation_function(OFF, DEF, rate, multiply, maindata)\n",
    "                else:\n",
    "                    point = 2\n",
    "                    \n",
    "    elif indicator == '3pt':\n",
    "        sample_dist_step2 = generate_dirichlet_sample_3pt(off_team_data, multiply)\n",
    "        indicator_step2 = generate_indicator_3pt(sample_dist_step2)\n",
    "        if indicator_step2 == 'CO':\n",
    "            success_prob = ((rate * off_team_data['COP'].iloc[0]) + ((1-rate) * def_team_data['OCOP'].iloc[0])) / 100\n",
    "            random_value = np.random.uniform(0, 1)\n",
    "            if random_value <= success_prob:\n",
    "                point = 3\n",
    "            else:\n",
    "                point = 0\n",
    "            if point == 0:\n",
    "                off_orb = off_team_data['ORB'].iloc[0]\n",
    "                def_drb = def_team_data['DRB'].iloc[0]\n",
    "                total = off_orb + def_drb\n",
    "                prob_retry = off_orb / total if total > 0 else 0\n",
    "                prob_fail = def_drb / total if total > 0 else 1\n",
    "\n",
    "                retry_prob = np.random.uniform(0, 1)\n",
    "                if retry_prob <= prob_retry:\n",
    "                    retry_occurred = True\n",
    "                    nested_result = simulation_function(OFF, DEF, rate, multiply, maindata)\n",
    "                else:\n",
    "                    point = 0\n",
    "        elif indicator_step2 == 'AB':\n",
    "            success_prob = ((rate * off_team_data['ABP'].iloc[0]) + ((1-rate) * def_team_data['OABP'].iloc[0])) / 100\n",
    "            random_value = np.random.uniform(0, 1)\n",
    "            if random_value <= success_prob:\n",
    "                point = 3\n",
    "            else:\n",
    "                point = 0\n",
    "            if point == 0:\n",
    "                off_orb = off_team_data['ORB'].iloc[0]\n",
    "                def_drb = def_team_data['DRB'].iloc[0]\n",
    "                total = off_orb + def_drb\n",
    "                prob_retry = off_orb / total if total > 0 else 0\n",
    "                prob_fail = def_drb / total if total > 0 else 1\n",
    "\n",
    "                retry_prob = np.random.uniform(0, 1)\n",
    "                if retry_prob <= prob_retry:\n",
    "                    retry_occurred = True\n",
    "                    nested_result = simulation_function(OFF, DEF, rate, multiply, maindata)\n",
    "                else:\n",
    "                    point = 0\n",
    "            \n",
    "        else:\n",
    "            success_prob = (off_team_data['FTP'].iloc[0] / 100)\n",
    "            random_value = np.random.uniform(0, 1)\n",
    "            if random_value <= success_prob:\n",
    "                point = 4\n",
    "            else:\n",
    "                point = 3\n",
    "                off_orb = off_team_data['ORB'].iloc[0]\n",
    "                def_drb = def_team_data['DRB'].iloc[0]\n",
    "                total = off_orb + def_drb\n",
    "                prob_retry = off_orb / total if total > 0 else 0\n",
    "                prob_fail = def_drb / total if total > 0 else 1\n",
    "\n",
    "                retry_prob = np.random.uniform(0, 1)\n",
    "                if retry_prob <= prob_retry:\n",
    "                    retry_occurred = True\n",
    "                    nested_result = simulation_function(OFF, DEF, rate, multiply, maindata)\n",
    "                else:\n",
    "                    point = 3\n",
    "    elif indicator == '4pt':\n",
    "        indicator_step2 = '4pt'\n",
    "        success_prob = off_team_data['DEEPP'].iloc[0] / 100  \n",
    "        point = 0\n",
    "        random_value = np.random.uniform(0, 1)\n",
    "        if random_value <= success_prob:\n",
    "            point = 4 \n",
    "        else:\n",
    "            point = 0\n",
    "        if point == 0:\n",
    "            off_orb = off_team_data['ORB'].iloc[0]\n",
    "            def_drb = def_team_data['DRB'].iloc[0]\n",
    "            total = off_orb + def_drb\n",
    "            prob_retry = off_orb / total if total > 0 else 0\n",
    "            prob_fail = def_drb / total if total > 0 else 1\n",
    "\n",
    "            retry_prob = np.random.uniform(0, 1)\n",
    "            if retry_prob <= prob_retry:\n",
    "                retry_occurred = True\n",
    "                nested_result = simulation_function(OFF, DEF, rate, multiply, maindata)\n",
    "            else:\n",
    "                point = 0\n",
    "\n",
    "    elif indicator == 'FT':\n",
    "        sample_dist_step2 = generate_dirichlet_sample_FT(off_team_data, multiply)\n",
    "        indicator_step2 = generate_indicator_FT(sample_dist_step2)\n",
    "        if indicator_step2 == '2SFD':\n",
    "            success_prob = off_team_data['FTP'].iloc[0] / 100\n",
    "            point = 0\n",
    "            last_shot_success = True\n",
    "            for _ in range(2):\n",
    "                random_value = np.random.uniform(0, 1)\n",
    "                if random_value <= success_prob:\n",
    "                    point += 1\n",
    "                    last_shot_success = True\n",
    "                else:\n",
    "                    last_shot_success = False\n",
    "\n",
    "            if not last_shot_success:\n",
    "                off_orb = off_team_data['ORB'].iloc[0]\n",
    "                def_drb = def_team_data['DRB'].iloc[0]\n",
    "                total = off_orb + def_drb\n",
    "                prob_retry = off_orb / total if total > 0 else 0\n",
    "                prob_fail = def_drb / total if total > 0 else 1\n",
    "\n",
    "                retry_prob = np.random.uniform(0, 1)\n",
    "                if retry_prob <= prob_retry:\n",
    "                    retry_occurred = True\n",
    "                    nested_result = simulation_function(OFF, DEF, rate, multiply, maindata)\n",
    "                else:\n",
    "                    point = point\n",
    "\n",
    "        elif indicator_step2 == '3SFD':\n",
    "            success_prob = off_team_data['FTP'].iloc[0] / 100\n",
    "            point = 0\n",
    "            last_shot_success = True\n",
    "            for _ in range(3):\n",
    "                random_value = np.random.uniform(0, 1)\n",
    "                if random_value <= success_prob:\n",
    "                    point += 1\n",
    "                    last_shot_success = True\n",
    "                else:\n",
    "                    last_shot_success = False\n",
    "\n",
    "            if not last_shot_success:\n",
    "                off_orb = off_team_data['ORB'].iloc[0]\n",
    "                def_drb = def_team_data['DRB'].iloc[0]\n",
    "                total = off_orb + def_drb\n",
    "                prob_retry = off_orb / total if total > 0 else 0\n",
    "                prob_fail = def_drb / total if total > 0 else 1\n",
    "\n",
    "                retry_prob = np.random.uniform(0, 1)\n",
    "                if retry_prob <= prob_retry:\n",
    "                    retry_occurred = True\n",
    "                    nested_result = simulation_function(OFF, DEF, rate, multiply, maindata)\n",
    "                else:\n",
    "                    point = point\n",
    "\n",
    "        else:\n",
    "            success_prob = off_team_data['FTP'].iloc[0] / 100\n",
    "            point = 0\n",
    "            last_shot_success = True\n",
    "            for _ in range(2):\n",
    "                random_value = np.random.uniform(0, 1)\n",
    "                if random_value <= success_prob:\n",
    "                    point += 1\n",
    "                    last_shot_success = True\n",
    "                else:\n",
    "                    last_shot_success = False\n",
    "\n",
    "            if not last_shot_success:\n",
    "                off_orb = off_team_data['ORB'].iloc[0]\n",
    "                def_drb = def_team_data['DRB'].iloc[0]\n",
    "                total = off_orb + def_drb\n",
    "                prob_retry = off_orb / total if total > 0 else 0\n",
    "                prob_fail = def_drb / total if total > 0 else 1\n",
    "\n",
    "                retry_prob = np.random.uniform(0, 1)\n",
    "                if retry_prob <= prob_retry:\n",
    "                    retry_occurred = True\n",
    "                    nested_result = simulation_function(OFF, DEF, rate, multiply, maindata)\n",
    "                else:\n",
    "                    point = point\n",
    "\n",
    "    else:\n",
    "        indicator_step2 = 'TOV'\n",
    "        point = 0\n",
    "\n",
    "    result = {\n",
    "        'indicator_step1': indicator,\n",
    "        'indicator_step2': indicator_step2,\n",
    "        'point': point,\n",
    "        'retry_occurred': retry_occurred\n",
    "    }\n",
    "\n",
    "    if nested_result is not None:\n",
    "        result['nested_result'] = nested_result\n",
    "        result['point'] += nested_result.get('point', 0)\n",
    "\n",
    "    return result"
   ]
  },
  {
   "cell_type": "code",
   "execution_count": 13,
   "id": "7a8961a0-9837-4cc1-b600-378e34a2f229",
   "metadata": {},
   "outputs": [
    {
     "data": {
      "text/plain": [
       "{'indicator_step1': '2pt',\n",
       " 'indicator_step2': 'MR',\n",
       " 'point': 2,\n",
       " 'retry_occurred': False}"
      ]
     },
     "execution_count": 13,
     "metadata": {},
     "output_type": "execute_result"
    }
   ],
   "source": [
    "simulation_function('ATL','BOS',0.8,100,Main_data)"
   ]
  },
  {
   "cell_type": "markdown",
   "id": "7661b3c4-351a-42ad-9cd4-618d4e148147",
   "metadata": {},
   "source": [
    "### PACE"
   ]
  },
  {
   "cell_type": "code",
   "execution_count": 16,
   "id": "138f4167-cbdc-43d2-b2c7-416689bf6d01",
   "metadata": {},
   "outputs": [],
   "source": [
    "def game_simulation_function (OFF, DEF, rate, multiply, maindata):\n",
    "    off_team_data = maindata[maindata['Team'] == OFF]\n",
    "    def_team_data = maindata[maindata['Team'] == DEF]\n",
    "    n=int((off_team_data['PACE'].iloc[0] + def_team_data['PACE'].iloc[0])/2)\n",
    "    total_points = 0\n",
    "    for _ in range(n):\n",
    "        total_points += simulation_function(OFF, DEF, rate, multiply, maindata)['point']\n",
    "\n",
    "    return total_points"
   ]
  },
  {
   "cell_type": "code",
   "execution_count": 18,
   "id": "565348a5-2132-43cb-8e57-9db3f3b518f5",
   "metadata": {},
   "outputs": [],
   "source": [
    "def schedule_simulation(schedule, rate, multiply, maindata):\n",
    "    wins = [] \n",
    "    loses = [] \n",
    "\n",
    "    for _, row in tqdm(schedule.iterrows(), total=len(schedule), desc=\"Simulating Games\"):\n",
    "        visitor = row['Visitor']\n",
    "        home = row['Home']\n",
    "\n",
    "        visitor_off_points = game_simulation_function(visitor, home, rate, multiply, maindata)\n",
    "\n",
    "        home_off_points = game_simulation_function(home, visitor, rate, multiply, maindata)\n",
    "\n",
    "        while visitor_off_points == home_off_points:\n",
    "            visitor_off_points = game_simulation_function(visitor, home, rate, multiply, maindata)\n",
    "            home_off_points = game_simulation_function(home, visitor, rate, multiply, maindata)\n",
    "\n",
    "        if visitor_off_points > home_off_points:\n",
    "            wins.append(visitor)\n",
    "            loses.append(home)\n",
    "        else:\n",
    "            wins.append(home)\n",
    "            loses.append(visitor)\n",
    "\n",
    "    schedule['Win'] = wins\n",
    "    schedule['Lose'] = loses\n",
    "    return schedule\n"
   ]
  },
  {
   "cell_type": "code",
   "execution_count": 20,
   "id": "510c27a5-e570-4ca0-832c-f4fcfffd1c75",
   "metadata": {},
   "outputs": [],
   "source": [
    "def schedule_simulation_basic(schedule, rate, multiply, maindata):\n",
    "    wins = []  \n",
    "    loses = []  \n",
    "\n",
    "    for _, row in schedule.iterrows():\n",
    "        visitor = row['Visitor']\n",
    "        home = row['Home']\n",
    "\n",
    "        visitor_off_points = game_simulation_function(visitor, home, rate, multiply, maindata)\n",
    "\n",
    "        home_off_points = game_simulation_function(home, visitor, rate, multiply, maindata)\n",
    "\n",
    "        while visitor_off_points == home_off_points:\n",
    "            visitor_off_points = game_simulation_function(visitor, home, rate, multiply, maindata)\n",
    "            home_off_points = game_simulation_function(home, visitor, rate, multiply, maindata)\n",
    "\n",
    "        if visitor_off_points > home_off_points:\n",
    "            wins.append(visitor)\n",
    "            loses.append(home)\n",
    "        else:\n",
    "            wins.append(home)\n",
    "            loses.append(visitor)\n",
    "\n",
    "    schedule['Win'] = wins\n",
    "    schedule['Lose'] = loses\n",
    "    return schedule\n"
   ]
  },
  {
   "cell_type": "code",
   "execution_count": 22,
   "id": "c0a6486b-6bf1-4aad-b56c-936b43673f11",
   "metadata": {},
   "outputs": [],
   "source": [
    "def process_game(row, rate, multiply, maindata):\n",
    "    visitor = row['Visitor']\n",
    "    home = row['Home']\n",
    "\n",
    "    visitor_off_points = game_simulation_function(visitor, home, rate, multiply, maindata)\n",
    "\n",
    "    home_off_points = game_simulation_function(home, visitor, rate, multiply, maindata)\n",
    "\n",
    "    while visitor_off_points == home_off_points:\n",
    "        visitor_off_points = game_simulation_function(visitor, home, rate, multiply, maindata)\n",
    "        home_off_points = game_simulation_function(home, visitor, rate, multiply, maindata)\n",
    "\n",
    "    if visitor_off_points > home_off_points:\n",
    "        return visitor, home\n",
    "    else:\n",
    "        return home, visitor\n",
    "\n",
    "def schedule_simulation_parallel(schedule, rate, multiply, maindata, n_jobs=-1):\n",
    "    results = Parallel(n_jobs=n_jobs)(\n",
    "        delayed(process_game)(row, rate, multiply, maindata) for _, row in tqdm(schedule.iterrows(), total=len(schedule), desc=\"Simulating Games\")\n",
    "    )\n",
    "\n",
    "    wins, loses = zip(*results)\n",
    "    schedule['Win'] = wins\n",
    "    schedule['Lose'] = loses\n",
    "    return schedule\n"
   ]
  },
  {
   "cell_type": "code",
   "execution_count": 24,
   "id": "a85df537-8fd1-4213-892f-f2ac3db5b05e",
   "metadata": {},
   "outputs": [],
   "source": [
    "def schedule_simulation_ntimes(n, schedule, rate, multiply, maindata):\n",
    "    expanded_schedules = [] \n",
    "\n",
    "    for i in range(n):\n",
    "        print(f\"Simulation {i + 1}/{n}\")\n",
    "        simulated_schedule = schedule_simulation_parallel(schedule.copy(), rate, multiply, maindata)\n",
    "        simulated_schedule['Simulation'] = i + 1 \n",
    "        expanded_schedules.append(simulated_schedule)\n",
    "\n",
    "    combined_schedule = pd.concat(expanded_schedules, ignore_index=True)\n",
    "    return combined_schedule\n"
   ]
  },
  {
   "cell_type": "code",
   "execution_count": 26,
   "id": "2241b209-923a-45a0-8365-6b7321fa4918",
   "metadata": {},
   "outputs": [],
   "source": [
    "def calculate_win_percentage(schedule, main_data):\n",
    "    import pandas as pd\n",
    "\n",
    "    win_counts = schedule['Win'].value_counts()  \n",
    "    lose_counts = schedule['Lose'].value_counts() \n",
    "\n",
    "    game_counts = win_counts.add(lose_counts, fill_value=0) \n",
    "\n",
    "    win_percentage = (win_counts / game_counts).fillna(0)  \n",
    "\n",
    "\n",
    "    win_percentage_table = pd.DataFrame({\n",
    "        'Team': win_counts.index.union(lose_counts.index), \n",
    "        'Conference': win_counts.index.union(lose_counts.index).map(main_data.set_index('Team')['Conference']),  \n",
    "        'Wins': win_counts,  \n",
    "        'Losses': lose_counts,  \n",
    "        'Win_Percentage': win_percentage  \n",
    "    }).fillna(0) \n",
    "\n",
    "    win_percentage_table['Wins'] = win_percentage_table['Wins'].astype(int)\n",
    "    win_percentage_table['Losses'] = win_percentage_table['Losses'].astype(int)\n",
    "\n",
    "    win_percentage_table['Play_off'] = 0  \n",
    "    win_percentage_table.loc[win_percentage_table.groupby('Conference')['Win_Percentage']\n",
    "                             .rank(method='first', ascending=False) <= 10, 'Play_off'] = 1\n",
    "\n",
    "    win_percentage_table = win_percentage_table.reset_index(drop=True)\n",
    "\n",
    "    return win_percentage_table\n"
   ]
  },
  {
   "cell_type": "code",
   "execution_count": 28,
   "id": "65f14b6e-203a-4f6d-8082-5a4b44bcc3c8",
   "metadata": {},
   "outputs": [],
   "source": [
    "from sklearn.metrics import mean_absolute_error\n",
    "\n",
    "def calculate_mae(result_sample, origin_result):\n",
    "    if isinstance(result_sample, pd.Series):\n",
    "        result_sample = result_sample.reset_index()\n",
    "        result_sample.columns = ['Team', 'Win_Percentage']\n",
    "\n",
    "    if isinstance(origin_result, pd.Series):\n",
    "        origin_result = origin_result.reset_index()\n",
    "        origin_result.columns = ['Team', 'Win_Percentage']\n",
    "\n",
    "    comparison_df = result_sample.merge(origin_result, on='Team', suffixes=('_Sample', '_Origin'))\n",
    "\n",
    "    mae = mean_absolute_error(\n",
    "        comparison_df['Win_Percentage_Sample'], \n",
    "        comparison_df['Win_Percentage_Origin']\n",
    "    )\n",
    "    return mae\n"
   ]
  },
  {
   "cell_type": "code",
   "execution_count": 30,
   "id": "b054447a-ec14-40cf-99cf-376e0fcb1a74",
   "metadata": {},
   "outputs": [],
   "source": [
    "def calculate_play_off_accuracy(predicted_result, origin_result):\n",
    "    import pandas as pd\n",
    "\n",
    "    merged = predicted_result[['Team', 'Play_off']].merge(origin_result[['Team', 'Play_off']], on='Team', suffixes=('_predicted', '_actual'))\n",
    "\n",
    "    accuracy = (merged['Play_off_predicted'] == merged['Play_off_actual']).mean()\n",
    "\n",
    "    return accuracy\n"
   ]
  },
  {
   "cell_type": "code",
   "execution_count": 54,
   "id": "68f0e18b-6015-4594-8480-8da4f71eedda",
   "metadata": {},
   "outputs": [
    {
     "name": "stdout",
     "output_type": "stream",
     "text": [
      "Running simulation 1\n",
      "Simulation 1/1\n"
     ]
    },
    {
     "data": {
      "application/vnd.jupyter.widget-view+json": {
       "model_id": "044ba6b265644ab49bc75d0864d3e243",
       "version_major": 2,
       "version_minor": 0
      },
      "text/plain": [
       "Simulating Games:   0%|          | 0/1230 [00:00<?, ?it/s]"
      ]
     },
     "metadata": {},
     "output_type": "display_data"
    },
    {
     "name": "stdout",
     "output_type": "stream",
     "text": [
      "Running simulation 2\n",
      "Simulation 1/1\n"
     ]
    },
    {
     "data": {
      "application/vnd.jupyter.widget-view+json": {
       "model_id": "0b85e6954d6f4c55a8512060a641d06a",
       "version_major": 2,
       "version_minor": 0
      },
      "text/plain": [
       "Simulating Games:   0%|          | 0/1230 [00:00<?, ?it/s]"
      ]
     },
     "metadata": {},
     "output_type": "display_data"
    },
    {
     "name": "stdout",
     "output_type": "stream",
     "text": [
      "Running simulation 3\n",
      "Simulation 1/1\n"
     ]
    },
    {
     "data": {
      "application/vnd.jupyter.widget-view+json": {
       "model_id": "dff3b187d3d34c178920c173c01c340e",
       "version_major": 2,
       "version_minor": 0
      },
      "text/plain": [
       "Simulating Games:   0%|          | 0/1230 [00:00<?, ?it/s]"
      ]
     },
     "metadata": {},
     "output_type": "display_data"
    },
    {
     "name": "stdout",
     "output_type": "stream",
     "text": [
      "Running simulation 4\n",
      "Simulation 1/1\n"
     ]
    },
    {
     "data": {
      "application/vnd.jupyter.widget-view+json": {
       "model_id": "856be7968594441cb08e81c11fa1daab",
       "version_major": 2,
       "version_minor": 0
      },
      "text/plain": [
       "Simulating Games:   0%|          | 0/1230 [00:00<?, ?it/s]"
      ]
     },
     "metadata": {},
     "output_type": "display_data"
    },
    {
     "name": "stdout",
     "output_type": "stream",
     "text": [
      "Running simulation 5\n",
      "Simulation 1/1\n"
     ]
    },
    {
     "data": {
      "application/vnd.jupyter.widget-view+json": {
       "model_id": "e3d86ba7645b41a8bcd7c48541607014",
       "version_major": 2,
       "version_minor": 0
      },
      "text/plain": [
       "Simulating Games:   0%|          | 0/1230 [00:00<?, ?it/s]"
      ]
     },
     "metadata": {},
     "output_type": "display_data"
    },
    {
     "name": "stdout",
     "output_type": "stream",
     "text": [
      "Running simulation 6\n",
      "Simulation 1/1\n"
     ]
    },
    {
     "data": {
      "application/vnd.jupyter.widget-view+json": {
       "model_id": "b4b6f21179b247c49f334b53f21665e3",
       "version_major": 2,
       "version_minor": 0
      },
      "text/plain": [
       "Simulating Games:   0%|          | 0/1230 [00:00<?, ?it/s]"
      ]
     },
     "metadata": {},
     "output_type": "display_data"
    },
    {
     "name": "stdout",
     "output_type": "stream",
     "text": [
      "Running simulation 7\n",
      "Simulation 1/1\n"
     ]
    },
    {
     "data": {
      "application/vnd.jupyter.widget-view+json": {
       "model_id": "393f01af784f45f495ec2cceb7b780dd",
       "version_major": 2,
       "version_minor": 0
      },
      "text/plain": [
       "Simulating Games:   0%|          | 0/1230 [00:00<?, ?it/s]"
      ]
     },
     "metadata": {},
     "output_type": "display_data"
    },
    {
     "name": "stdout",
     "output_type": "stream",
     "text": [
      "Running simulation 8\n",
      "Simulation 1/1\n"
     ]
    },
    {
     "data": {
      "application/vnd.jupyter.widget-view+json": {
       "model_id": "938006e9d8194060890a76b3dd3915a8",
       "version_major": 2,
       "version_minor": 0
      },
      "text/plain": [
       "Simulating Games:   0%|          | 0/1230 [00:00<?, ?it/s]"
      ]
     },
     "metadata": {},
     "output_type": "display_data"
    },
    {
     "name": "stdout",
     "output_type": "stream",
     "text": [
      "Running simulation 9\n",
      "Simulation 1/1\n"
     ]
    },
    {
     "data": {
      "application/vnd.jupyter.widget-view+json": {
       "model_id": "6bbf851fda5f4eba932e11f29f71a6d5",
       "version_major": 2,
       "version_minor": 0
      },
      "text/plain": [
       "Simulating Games:   0%|          | 0/1230 [00:00<?, ?it/s]"
      ]
     },
     "metadata": {},
     "output_type": "display_data"
    },
    {
     "name": "stdout",
     "output_type": "stream",
     "text": [
      "Running simulation 10\n",
      "Simulation 1/1\n"
     ]
    },
    {
     "data": {
      "application/vnd.jupyter.widget-view+json": {
       "model_id": "3fdcee01985c4c96b0e9e165f165a211",
       "version_major": 2,
       "version_minor": 0
      },
      "text/plain": [
       "Simulating Games:   0%|          | 0/1230 [00:00<?, ?it/s]"
      ]
     },
     "metadata": {},
     "output_type": "display_data"
    },
    {
     "name": "stdout",
     "output_type": "stream",
     "text": [
      "Running simulation 11\n",
      "Simulation 1/1\n"
     ]
    },
    {
     "data": {
      "application/vnd.jupyter.widget-view+json": {
       "model_id": "e34ce19331ec44cf8cd2770eb79e48c8",
       "version_major": 2,
       "version_minor": 0
      },
      "text/plain": [
       "Simulating Games:   0%|          | 0/1230 [00:00<?, ?it/s]"
      ]
     },
     "metadata": {},
     "output_type": "display_data"
    },
    {
     "name": "stdout",
     "output_type": "stream",
     "text": [
      "Running simulation 12\n",
      "Simulation 1/1\n"
     ]
    },
    {
     "data": {
      "application/vnd.jupyter.widget-view+json": {
       "model_id": "d299826033414f39a6b5f1bfd758a1e1",
       "version_major": 2,
       "version_minor": 0
      },
      "text/plain": [
       "Simulating Games:   0%|          | 0/1230 [00:00<?, ?it/s]"
      ]
     },
     "metadata": {},
     "output_type": "display_data"
    },
    {
     "name": "stdout",
     "output_type": "stream",
     "text": [
      "Running simulation 13\n",
      "Simulation 1/1\n"
     ]
    },
    {
     "data": {
      "application/vnd.jupyter.widget-view+json": {
       "model_id": "eb6f010cf5e943a1adcac7edbe5b26b9",
       "version_major": 2,
       "version_minor": 0
      },
      "text/plain": [
       "Simulating Games:   0%|          | 0/1230 [00:00<?, ?it/s]"
      ]
     },
     "metadata": {},
     "output_type": "display_data"
    },
    {
     "name": "stdout",
     "output_type": "stream",
     "text": [
      "Running simulation 14\n",
      "Simulation 1/1\n"
     ]
    },
    {
     "data": {
      "application/vnd.jupyter.widget-view+json": {
       "model_id": "2c2b20475d0344889c69150fdd685cb5",
       "version_major": 2,
       "version_minor": 0
      },
      "text/plain": [
       "Simulating Games:   0%|          | 0/1230 [00:00<?, ?it/s]"
      ]
     },
     "metadata": {},
     "output_type": "display_data"
    },
    {
     "name": "stdout",
     "output_type": "stream",
     "text": [
      "Running simulation 15\n",
      "Simulation 1/1\n"
     ]
    },
    {
     "data": {
      "application/vnd.jupyter.widget-view+json": {
       "model_id": "024fa8825cce434a83431f3ada5d5b80",
       "version_major": 2,
       "version_minor": 0
      },
      "text/plain": [
       "Simulating Games:   0%|          | 0/1230 [00:00<?, ?it/s]"
      ]
     },
     "metadata": {},
     "output_type": "display_data"
    },
    {
     "name": "stdout",
     "output_type": "stream",
     "text": [
      "Running simulation 16\n",
      "Simulation 1/1\n"
     ]
    },
    {
     "data": {
      "application/vnd.jupyter.widget-view+json": {
       "model_id": "f7254de201304d908b7b9bf8864a7d2b",
       "version_major": 2,
       "version_minor": 0
      },
      "text/plain": [
       "Simulating Games:   0%|          | 0/1230 [00:00<?, ?it/s]"
      ]
     },
     "metadata": {},
     "output_type": "display_data"
    },
    {
     "name": "stdout",
     "output_type": "stream",
     "text": [
      "Running simulation 17\n",
      "Simulation 1/1\n"
     ]
    },
    {
     "data": {
      "application/vnd.jupyter.widget-view+json": {
       "model_id": "6d23df1669ec49df9afaea9d73c81e16",
       "version_major": 2,
       "version_minor": 0
      },
      "text/plain": [
       "Simulating Games:   0%|          | 0/1230 [00:00<?, ?it/s]"
      ]
     },
     "metadata": {},
     "output_type": "display_data"
    },
    {
     "name": "stdout",
     "output_type": "stream",
     "text": [
      "Running simulation 18\n",
      "Simulation 1/1\n"
     ]
    },
    {
     "data": {
      "application/vnd.jupyter.widget-view+json": {
       "model_id": "2bc75b9c0af8459f84be70271335b9af",
       "version_major": 2,
       "version_minor": 0
      },
      "text/plain": [
       "Simulating Games:   0%|          | 0/1230 [00:00<?, ?it/s]"
      ]
     },
     "metadata": {},
     "output_type": "display_data"
    },
    {
     "name": "stdout",
     "output_type": "stream",
     "text": [
      "Running simulation 19\n",
      "Simulation 1/1\n"
     ]
    },
    {
     "data": {
      "application/vnd.jupyter.widget-view+json": {
       "model_id": "51a25521e54940feb06c311456cb3f7f",
       "version_major": 2,
       "version_minor": 0
      },
      "text/plain": [
       "Simulating Games:   0%|          | 0/1230 [00:00<?, ?it/s]"
      ]
     },
     "metadata": {},
     "output_type": "display_data"
    },
    {
     "name": "stdout",
     "output_type": "stream",
     "text": [
      "Running simulation 20\n",
      "Simulation 1/1\n"
     ]
    },
    {
     "data": {
      "application/vnd.jupyter.widget-view+json": {
       "model_id": "13529b0ba2364f6fb85d4e82269f9c81",
       "version_major": 2,
       "version_minor": 0
      },
      "text/plain": [
       "Simulating Games:   0%|          | 0/1230 [00:00<?, ?it/s]"
      ]
     },
     "metadata": {},
     "output_type": "display_data"
    },
    {
     "name": "stdout",
     "output_type": "stream",
     "text": [
      "Running simulation 21\n",
      "Simulation 1/1\n"
     ]
    },
    {
     "data": {
      "application/vnd.jupyter.widget-view+json": {
       "model_id": "3b6fafa61f19402db789ad7a66968f2e",
       "version_major": 2,
       "version_minor": 0
      },
      "text/plain": [
       "Simulating Games:   0%|          | 0/1230 [00:00<?, ?it/s]"
      ]
     },
     "metadata": {},
     "output_type": "display_data"
    },
    {
     "name": "stdout",
     "output_type": "stream",
     "text": [
      "Running simulation 22\n",
      "Simulation 1/1\n"
     ]
    },
    {
     "data": {
      "application/vnd.jupyter.widget-view+json": {
       "model_id": "e253b7f864ca4465ac79ef3fdde09f53",
       "version_major": 2,
       "version_minor": 0
      },
      "text/plain": [
       "Simulating Games:   0%|          | 0/1230 [00:00<?, ?it/s]"
      ]
     },
     "metadata": {},
     "output_type": "display_data"
    },
    {
     "name": "stdout",
     "output_type": "stream",
     "text": [
      "Running simulation 23\n",
      "Simulation 1/1\n"
     ]
    },
    {
     "data": {
      "application/vnd.jupyter.widget-view+json": {
       "model_id": "273d0db2643d4d1ca9539ce04d16c9d2",
       "version_major": 2,
       "version_minor": 0
      },
      "text/plain": [
       "Simulating Games:   0%|          | 0/1230 [00:00<?, ?it/s]"
      ]
     },
     "metadata": {},
     "output_type": "display_data"
    },
    {
     "name": "stdout",
     "output_type": "stream",
     "text": [
      "Running simulation 24\n",
      "Simulation 1/1\n"
     ]
    },
    {
     "data": {
      "application/vnd.jupyter.widget-view+json": {
       "model_id": "00455e823cb7451eb9f8408182115930",
       "version_major": 2,
       "version_minor": 0
      },
      "text/plain": [
       "Simulating Games:   0%|          | 0/1230 [00:00<?, ?it/s]"
      ]
     },
     "metadata": {},
     "output_type": "display_data"
    },
    {
     "name": "stdout",
     "output_type": "stream",
     "text": [
      "Running simulation 25\n",
      "Simulation 1/1\n"
     ]
    },
    {
     "data": {
      "application/vnd.jupyter.widget-view+json": {
       "model_id": "6da8a92eafe8455cbc8965b91d2938d1",
       "version_major": 2,
       "version_minor": 0
      },
      "text/plain": [
       "Simulating Games:   0%|          | 0/1230 [00:00<?, ?it/s]"
      ]
     },
     "metadata": {},
     "output_type": "display_data"
    },
    {
     "name": "stdout",
     "output_type": "stream",
     "text": [
      "Running simulation 26\n",
      "Simulation 1/1\n"
     ]
    },
    {
     "data": {
      "application/vnd.jupyter.widget-view+json": {
       "model_id": "a87d824554a542b3afd84be2b5fcc2dd",
       "version_major": 2,
       "version_minor": 0
      },
      "text/plain": [
       "Simulating Games:   0%|          | 0/1230 [00:00<?, ?it/s]"
      ]
     },
     "metadata": {},
     "output_type": "display_data"
    },
    {
     "name": "stdout",
     "output_type": "stream",
     "text": [
      "Running simulation 27\n",
      "Simulation 1/1\n"
     ]
    },
    {
     "data": {
      "application/vnd.jupyter.widget-view+json": {
       "model_id": "ed12342cbad64e6c9a1417ceb76e6759",
       "version_major": 2,
       "version_minor": 0
      },
      "text/plain": [
       "Simulating Games:   0%|          | 0/1230 [00:00<?, ?it/s]"
      ]
     },
     "metadata": {},
     "output_type": "display_data"
    },
    {
     "name": "stdout",
     "output_type": "stream",
     "text": [
      "Running simulation 28\n",
      "Simulation 1/1\n"
     ]
    },
    {
     "data": {
      "application/vnd.jupyter.widget-view+json": {
       "model_id": "4afa13235cc14be2854f1f0e8d8106cc",
       "version_major": 2,
       "version_minor": 0
      },
      "text/plain": [
       "Simulating Games:   0%|          | 0/1230 [00:00<?, ?it/s]"
      ]
     },
     "metadata": {},
     "output_type": "display_data"
    },
    {
     "name": "stdout",
     "output_type": "stream",
     "text": [
      "Running simulation 29\n",
      "Simulation 1/1\n"
     ]
    },
    {
     "data": {
      "application/vnd.jupyter.widget-view+json": {
       "model_id": "9bd9ffe7270e4db190b1c68d51a0f2c2",
       "version_major": 2,
       "version_minor": 0
      },
      "text/plain": [
       "Simulating Games:   0%|          | 0/1230 [00:00<?, ?it/s]"
      ]
     },
     "metadata": {},
     "output_type": "display_data"
    },
    {
     "name": "stdout",
     "output_type": "stream",
     "text": [
      "Running simulation 30\n",
      "Simulation 1/1\n"
     ]
    },
    {
     "data": {
      "application/vnd.jupyter.widget-view+json": {
       "model_id": "7da3c5a3a7d342aba6f00a05d99d9977",
       "version_major": 2,
       "version_minor": 0
      },
      "text/plain": [
       "Simulating Games:   0%|          | 0/1230 [00:00<?, ?it/s]"
      ]
     },
     "metadata": {},
     "output_type": "display_data"
    },
    {
     "name": "stdout",
     "output_type": "stream",
     "text": [
      "Running simulation 31\n",
      "Simulation 1/1\n"
     ]
    },
    {
     "data": {
      "application/vnd.jupyter.widget-view+json": {
       "model_id": "99d86154544e4bd78e35896192f66a82",
       "version_major": 2,
       "version_minor": 0
      },
      "text/plain": [
       "Simulating Games:   0%|          | 0/1230 [00:00<?, ?it/s]"
      ]
     },
     "metadata": {},
     "output_type": "display_data"
    },
    {
     "name": "stdout",
     "output_type": "stream",
     "text": [
      "Running simulation 32\n",
      "Simulation 1/1\n"
     ]
    },
    {
     "data": {
      "application/vnd.jupyter.widget-view+json": {
       "model_id": "74455650022c4c9baa6de403265260b7",
       "version_major": 2,
       "version_minor": 0
      },
      "text/plain": [
       "Simulating Games:   0%|          | 0/1230 [00:00<?, ?it/s]"
      ]
     },
     "metadata": {},
     "output_type": "display_data"
    },
    {
     "name": "stdout",
     "output_type": "stream",
     "text": [
      "Running simulation 33\n",
      "Simulation 1/1\n"
     ]
    },
    {
     "data": {
      "application/vnd.jupyter.widget-view+json": {
       "model_id": "912ce1830dad4c3eb0b1e2d32754357f",
       "version_major": 2,
       "version_minor": 0
      },
      "text/plain": [
       "Simulating Games:   0%|          | 0/1230 [00:00<?, ?it/s]"
      ]
     },
     "metadata": {},
     "output_type": "display_data"
    },
    {
     "name": "stdout",
     "output_type": "stream",
     "text": [
      "Running simulation 34\n",
      "Simulation 1/1\n"
     ]
    },
    {
     "data": {
      "application/vnd.jupyter.widget-view+json": {
       "model_id": "2ef270e8a68946189ad40417b417f151",
       "version_major": 2,
       "version_minor": 0
      },
      "text/plain": [
       "Simulating Games:   0%|          | 0/1230 [00:00<?, ?it/s]"
      ]
     },
     "metadata": {},
     "output_type": "display_data"
    },
    {
     "name": "stdout",
     "output_type": "stream",
     "text": [
      "Running simulation 35\n",
      "Simulation 1/1\n"
     ]
    },
    {
     "data": {
      "application/vnd.jupyter.widget-view+json": {
       "model_id": "af55f3b7f0b74556b8b6e96fc5756973",
       "version_major": 2,
       "version_minor": 0
      },
      "text/plain": [
       "Simulating Games:   0%|          | 0/1230 [00:00<?, ?it/s]"
      ]
     },
     "metadata": {},
     "output_type": "display_data"
    },
    {
     "name": "stdout",
     "output_type": "stream",
     "text": [
      "Running simulation 36\n",
      "Simulation 1/1\n"
     ]
    },
    {
     "data": {
      "application/vnd.jupyter.widget-view+json": {
       "model_id": "a8e3c350aed8464fb753f36fc014aa7b",
       "version_major": 2,
       "version_minor": 0
      },
      "text/plain": [
       "Simulating Games:   0%|          | 0/1230 [00:00<?, ?it/s]"
      ]
     },
     "metadata": {},
     "output_type": "display_data"
    },
    {
     "name": "stdout",
     "output_type": "stream",
     "text": [
      "Running simulation 37\n",
      "Simulation 1/1\n"
     ]
    },
    {
     "data": {
      "application/vnd.jupyter.widget-view+json": {
       "model_id": "73483a4671fe4c9f839d46cf49d79244",
       "version_major": 2,
       "version_minor": 0
      },
      "text/plain": [
       "Simulating Games:   0%|          | 0/1230 [00:00<?, ?it/s]"
      ]
     },
     "metadata": {},
     "output_type": "display_data"
    },
    {
     "name": "stdout",
     "output_type": "stream",
     "text": [
      "Running simulation 38\n",
      "Simulation 1/1\n"
     ]
    },
    {
     "data": {
      "application/vnd.jupyter.widget-view+json": {
       "model_id": "23aafb717ab143cebc4ed73c12166a02",
       "version_major": 2,
       "version_minor": 0
      },
      "text/plain": [
       "Simulating Games:   0%|          | 0/1230 [00:00<?, ?it/s]"
      ]
     },
     "metadata": {},
     "output_type": "display_data"
    },
    {
     "name": "stdout",
     "output_type": "stream",
     "text": [
      "Running simulation 39\n",
      "Simulation 1/1\n"
     ]
    },
    {
     "data": {
      "application/vnd.jupyter.widget-view+json": {
       "model_id": "0a237f3750b54fc895f6dbaa753a743e",
       "version_major": 2,
       "version_minor": 0
      },
      "text/plain": [
       "Simulating Games:   0%|          | 0/1230 [00:00<?, ?it/s]"
      ]
     },
     "metadata": {},
     "output_type": "display_data"
    },
    {
     "name": "stdout",
     "output_type": "stream",
     "text": [
      "Running simulation 40\n",
      "Simulation 1/1\n"
     ]
    },
    {
     "data": {
      "application/vnd.jupyter.widget-view+json": {
       "model_id": "eb7f7009c99f49cfa916daffc1795a2f",
       "version_major": 2,
       "version_minor": 0
      },
      "text/plain": [
       "Simulating Games:   0%|          | 0/1230 [00:00<?, ?it/s]"
      ]
     },
     "metadata": {},
     "output_type": "display_data"
    },
    {
     "name": "stdout",
     "output_type": "stream",
     "text": [
      "Running simulation 41\n",
      "Simulation 1/1\n"
     ]
    },
    {
     "data": {
      "application/vnd.jupyter.widget-view+json": {
       "model_id": "2f5d671bbcff4aed857143ea6d8827d7",
       "version_major": 2,
       "version_minor": 0
      },
      "text/plain": [
       "Simulating Games:   0%|          | 0/1230 [00:00<?, ?it/s]"
      ]
     },
     "metadata": {},
     "output_type": "display_data"
    },
    {
     "name": "stdout",
     "output_type": "stream",
     "text": [
      "Running simulation 42\n",
      "Simulation 1/1\n"
     ]
    },
    {
     "data": {
      "application/vnd.jupyter.widget-view+json": {
       "model_id": "431ee78f21764098851a1100fdd2537f",
       "version_major": 2,
       "version_minor": 0
      },
      "text/plain": [
       "Simulating Games:   0%|          | 0/1230 [00:00<?, ?it/s]"
      ]
     },
     "metadata": {},
     "output_type": "display_data"
    },
    {
     "name": "stdout",
     "output_type": "stream",
     "text": [
      "Running simulation 43\n",
      "Simulation 1/1\n"
     ]
    },
    {
     "data": {
      "application/vnd.jupyter.widget-view+json": {
       "model_id": "0a28bd79076d4014b0443983cd02aa68",
       "version_major": 2,
       "version_minor": 0
      },
      "text/plain": [
       "Simulating Games:   0%|          | 0/1230 [00:00<?, ?it/s]"
      ]
     },
     "metadata": {},
     "output_type": "display_data"
    },
    {
     "name": "stdout",
     "output_type": "stream",
     "text": [
      "Running simulation 44\n",
      "Simulation 1/1\n"
     ]
    },
    {
     "data": {
      "application/vnd.jupyter.widget-view+json": {
       "model_id": "1d1538f54097459881757c713111f8a5",
       "version_major": 2,
       "version_minor": 0
      },
      "text/plain": [
       "Simulating Games:   0%|          | 0/1230 [00:00<?, ?it/s]"
      ]
     },
     "metadata": {},
     "output_type": "display_data"
    },
    {
     "name": "stdout",
     "output_type": "stream",
     "text": [
      "Running simulation 45\n",
      "Simulation 1/1\n"
     ]
    },
    {
     "data": {
      "application/vnd.jupyter.widget-view+json": {
       "model_id": "d29da6c930fb426ba619c5252f1149f5",
       "version_major": 2,
       "version_minor": 0
      },
      "text/plain": [
       "Simulating Games:   0%|          | 0/1230 [00:00<?, ?it/s]"
      ]
     },
     "metadata": {},
     "output_type": "display_data"
    },
    {
     "name": "stdout",
     "output_type": "stream",
     "text": [
      "Running simulation 46\n",
      "Simulation 1/1\n"
     ]
    },
    {
     "data": {
      "application/vnd.jupyter.widget-view+json": {
       "model_id": "63db3645e18042ebbdec674b0d334370",
       "version_major": 2,
       "version_minor": 0
      },
      "text/plain": [
       "Simulating Games:   0%|          | 0/1230 [00:00<?, ?it/s]"
      ]
     },
     "metadata": {},
     "output_type": "display_data"
    },
    {
     "name": "stdout",
     "output_type": "stream",
     "text": [
      "Running simulation 47\n",
      "Simulation 1/1\n"
     ]
    },
    {
     "data": {
      "application/vnd.jupyter.widget-view+json": {
       "model_id": "cbb8b49536b842ffb0fc1e10da52550b",
       "version_major": 2,
       "version_minor": 0
      },
      "text/plain": [
       "Simulating Games:   0%|          | 0/1230 [00:00<?, ?it/s]"
      ]
     },
     "metadata": {},
     "output_type": "display_data"
    },
    {
     "name": "stdout",
     "output_type": "stream",
     "text": [
      "Running simulation 48\n",
      "Simulation 1/1\n"
     ]
    },
    {
     "data": {
      "application/vnd.jupyter.widget-view+json": {
       "model_id": "41c733a8b4ca4bff80b7936d0402758a",
       "version_major": 2,
       "version_minor": 0
      },
      "text/plain": [
       "Simulating Games:   0%|          | 0/1230 [00:00<?, ?it/s]"
      ]
     },
     "metadata": {},
     "output_type": "display_data"
    },
    {
     "name": "stdout",
     "output_type": "stream",
     "text": [
      "Running simulation 49\n",
      "Simulation 1/1\n"
     ]
    },
    {
     "data": {
      "application/vnd.jupyter.widget-view+json": {
       "model_id": "d4b347d1831e4d81a20731c09553d81d",
       "version_major": 2,
       "version_minor": 0
      },
      "text/plain": [
       "Simulating Games:   0%|          | 0/1230 [00:00<?, ?it/s]"
      ]
     },
     "metadata": {},
     "output_type": "display_data"
    },
    {
     "name": "stdout",
     "output_type": "stream",
     "text": [
      "Running simulation 50\n",
      "Simulation 1/1\n"
     ]
    },
    {
     "data": {
      "application/vnd.jupyter.widget-view+json": {
       "model_id": "5c21a4a3bb5d457b82725eaba7e9e43f",
       "version_major": 2,
       "version_minor": 0
      },
      "text/plain": [
       "Simulating Games:   0%|          | 0/1230 [00:00<?, ?it/s]"
      ]
     },
     "metadata": {},
     "output_type": "display_data"
    },
    {
     "name": "stdout",
     "output_type": "stream",
     "text": [
      "Season results have been saved as 'season_results.xlsx'.\n",
      "Average Play-off Accuracy: 0.8040 ± 0.0455\n",
      "Average MAE: 0.0915 ± 0.0074\n",
      "\n",
      "Team Results:\n",
      "Team  MAE_mean  MAE_std  Play_off_Accuracy (%)  Play_off_Correct_std\n",
      " ATL  0.115633 0.060914                   96.0             19.794866\n",
      " BKN  0.107561 0.055037                   16.0             37.032804\n",
      " BOS  0.071815 0.042641                  100.0              0.000000\n",
      " CHA  0.105220 0.055852                   86.0             35.050983\n",
      " CHI  0.049134 0.033093                   66.0             47.851812\n",
      " CLE  0.089907 0.049160                   86.0             35.050983\n",
      " DAL  0.055746 0.037661                   90.0             30.304576\n",
      " DEN  0.180366 0.055695                   74.0             44.308750\n",
      " DET  0.169732 0.048619                   94.0             23.989794\n",
      " GSW  0.061208 0.047288                   98.0             14.142136\n",
      " HOU  0.056098 0.033238                   10.0             30.304576\n",
      " IND  0.047900 0.036692                  100.0              0.000000\n",
      " LAC  0.050769 0.038754                   98.0             14.142136\n",
      " LAL  0.071327 0.038202                   72.0             45.355737\n",
      " MEM  0.044050 0.030772                  100.0              0.000000\n",
      " MIA  0.076853 0.046699                   90.0             30.304576\n",
      " MIL  0.046115 0.034838                  100.0              0.000000\n",
      " MIN  0.186902 0.064174                   50.0             50.507627\n",
      " NOP  0.050542 0.038913                   94.0             23.989794\n",
      " NYK  0.059190 0.049773                  100.0              0.000000\n",
      " OKC  0.109878 0.050462                   96.0             19.794866\n",
      " ORL  0.163495 0.054019                   24.0             43.141911\n",
      " PHI  0.041416 0.030414                  100.0              0.000000\n",
      " PHX  0.062911 0.038216                   90.0             30.304576\n",
      " POR  0.065208 0.039247                  100.0              0.000000\n",
      " SAC  0.047088 0.033334                   82.0             38.808793\n",
      " SAS  0.140780 0.063833                   88.0             32.826072\n",
      " TOR  0.089161 0.052670                   80.0             40.406102\n",
      " UTA  0.109317 0.054536                   46.0             50.345743\n",
      " WAS  0.219439 0.053866                   86.0             35.050983\n"
     ]
    }
   ],
   "source": [
    "import pandas as pd\n",
    "\n",
    "team_comparison_list = []\n",
    "results_acc = []\n",
    "results_mae = []\n",
    "\n",
    "for i in range(50):\n",
    "    print(f\"Running simulation {i+1}\")\n",
    "    exam_n = schedule_simulation_ntimes(1, Schedule, 0.98, 67, Main_data)\n",
    "\n",
    "    sample = calculate_win_percentage(exam_n, Main_data)\n",
    "    accuracy = calculate_play_off_accuracy(sample, Origin_result)\n",
    "    mae = calculate_mae(sample, Origin_result)\n",
    "\n",
    "    comparison = sample[['Team', 'Win_Percentage', 'Play_off']].merge(\n",
    "        Origin_result[['Team', 'Win_Percentage', 'Play_off']], \n",
    "        on='Team', \n",
    "        suffixes=('_sim', '_origin')\n",
    "    )\n",
    "    \n",
    "    comparison['MAE'] = abs(comparison['Win_Percentage_sim'] - comparison['Win_Percentage_origin'])\n",
    "    comparison['Play_off_Correct'] = (comparison['Play_off_sim'] == comparison['Play_off_origin']).astype(int)\n",
    "\n",
    "    comparison['Season'] = i + 1 \n",
    "\n",
    "    team_comparison_list.append(comparison)\n",
    "    results_acc.append(accuracy)\n",
    "    results_mae.append(mae)\n",
    "\n",
    "combined_comparison = pd.concat(team_comparison_list)\n",
    "\n",
    "season_results = combined_comparison.groupby(['Season', 'Team']).agg({\n",
    "    'Win_Percentage_sim': 'mean',\n",
    "    'Play_off_sim': 'mean',\n",
    "    'MAE': 'mean'\n",
    "}).reset_index()\n",
    "\n",
    "team_results = combined_comparison.groupby('Team').agg({\n",
    "    'MAE': ['mean', 'std'],  \n",
    "    'Play_off_Correct': ['mean', 'std'] \n",
    "}).reset_index()\n",
    "\n",
    "team_results.columns = ['Team', 'MAE_mean', 'MAE_std', 'Play_off_Accuracy (%)', 'Play_off_Correct_std']\n",
    "team_results['Play_off_Accuracy (%)'] *= 100  \n",
    "team_results['Play_off_Correct_std'] *= 100  \n",
    "\n",
    "average_acc = sum(results_acc) / len(results_acc)\n",
    "average_mae = sum(results_mae) / len(results_mae)\n",
    "std_acc = pd.Series(results_acc).std()\n",
    "std_mae = pd.Series(results_mae).std()\n",
    "\n",
    "season_results.to_excel(\"season_results_case2.xlsx\", index=False)\n",
    "\n",
    "print(\"Season results have been saved as 'season_results.xlsx'.\")\n",
    "\n",
    "print(f\"Average Play-off Accuracy: {average_acc:.4f} ± {std_acc:.4f}\")\n",
    "print(f\"Average MAE: {average_mae:.4f} ± {std_mae:.4f}\")\n",
    "\n",
    "print(\"\\nTeam Results:\")\n",
    "print(team_results.to_string(index=False))\n"
   ]
  },
  {
   "cell_type": "code",
   "execution_count": null,
   "id": "db3cb775-e38f-4889-bcfa-eb3636bcbfae",
   "metadata": {},
   "outputs": [],
   "source": []
  }
 ],
 "metadata": {
  "kernelspec": {
   "display_name": "Python 3 (ipykernel)",
   "language": "python",
   "name": "python3"
  },
  "language_info": {
   "codemirror_mode": {
    "name": "ipython",
    "version": 3
   },
   "file_extension": ".py",
   "mimetype": "text/x-python",
   "name": "python",
   "nbconvert_exporter": "python",
   "pygments_lexer": "ipython3",
   "version": "3.12.2"
  }
 },
 "nbformat": 4,
 "nbformat_minor": 5
}
